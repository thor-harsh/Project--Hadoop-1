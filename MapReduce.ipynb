{
 "cells": [
  {
   "cell_type": "code",
   "execution_count": null,
   "id": "b9eefdac",
   "metadata": {},
   "outputs": [],
   "source": [
    "from mrjob.job import MRJob\n",
    "from mrjob.step import MRStep\n",
    "\n",
    "\n",
    "class RatingsBreakdown(MRJob):\n",
    "    def steps(self):\n",
    "        return [\n",
    "            MRStep(mapper=self.mapper_get_ratings,\n",
    "                   reducer=self.reducer_count_ratings),\n",
    "            MRStep(reducer=self.reducer_sort_ratings)\n",
    "        ]\n",
    "    def mapper_get_ratings(self,_,line):\n",
    "        (user_ID,movie_ID,rating,timestamp)=line.split('\\t')\n",
    "        yield  movie_ID, 1\n",
    "\n",
    "    def reducer_count_ratings(self,key,values):\n",
    "        yield str(sum(values)).zfill(5),key\n",
    "        \n",
    "    def reducer_sort_ratings(self,count,movies):\n",
    "        for movie in movies:\n",
    "            yield movie,count\n",
    "        \n",
    "  \n",
    "        \n",
    "\n",
    "\n",
    "if __name__==\"__main__\":\n",
    "    RatingsBreakdown.run()"
   ]
  }
 ],
 "metadata": {
  "kernelspec": {
   "display_name": "Python 3 (ipykernel)",
   "language": "python",
   "name": "python3"
  },
  "language_info": {
   "codemirror_mode": {
    "name": "ipython",
    "version": 3
   },
   "file_extension": ".py",
   "mimetype": "text/x-python",
   "name": "python",
   "nbconvert_exporter": "python",
   "pygments_lexer": "ipython3",
   "version": "3.9.12"
  }
 },
 "nbformat": 4,
 "nbformat_minor": 5
}
